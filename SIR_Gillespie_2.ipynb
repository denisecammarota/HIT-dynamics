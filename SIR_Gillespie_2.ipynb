{
 "cells": [
  {
   "cell_type": "code",
   "execution_count": 3,
   "id": "a106ba50",
   "metadata": {},
   "outputs": [],
   "source": [
    "import numpy as np\n",
    "import matplotlib.pyplot as plt\n",
    "import seaborn as sns \n",
    "sns.set_style('ticks')\n",
    "np.random.seed(123)"
   ]
  },
  {
   "cell_type": "code",
   "execution_count": 17,
   "id": "c8866955",
   "metadata": {},
   "outputs": [],
   "source": [
    "def gillespie_SIR(x,n,N,beta,gamma, mu):\n",
    "    S = np.array([])\n",
    "    I = np.array([])\n",
    "    R = np.array([])\n",
    "    t = np.array([])\n",
    "    t = np.append(t,0)\n",
    "    S = np.append(S,x[0])\n",
    "    I = np.append(I,x[1])\n",
    "    R = np.append(R,x[2])\n",
    "    for i in range(n):\n",
    "        if(I[-1] == 0):\n",
    "            break\n",
    "        S_c = S[-1]\n",
    "        I_c = I[-1]\n",
    "        R_c = R[-1]\n",
    "        r1 = beta*S_c*I_c/N # infection\n",
    "        r2 = gamma*I_c # recovery\n",
    "        r3 = mu*I_c # death of infected\n",
    "        r4 = mu*R_c # death of recovered\n",
    "        rtotal = r1 + r2 + r3 + r4 # total rate\n",
    "        rand1 = np.random.random()\n",
    "        rand2 = np.random.random()\n",
    "        # searching for dt time of next reaction\n",
    "        dt = (1/rtotal)*np.log(1/rand1)\n",
    "        t = np.append(t,t[-1] + dt)\n",
    "        # select which reaction ocurs\n",
    "        react1 = r1/rtotal\n",
    "        react2 = r2/rtotal\n",
    "        react3 = r3/rtotal\n",
    "        react4 = r4/rtotal\n",
    "        if(rand2 < react1):\n",
    "            # someone gets infected\n",
    "            S_next = S_c - 1\n",
    "            I_next = I_c + 1\n",
    "            R_next = R_c\n",
    "        elif(rand2 < react1 + react2 and rand2 >= react1):\n",
    "            # someone gets recovered\n",
    "            S_next = S_c\n",
    "            I_next = I_c - 1\n",
    "            R_next = R_c + 1\n",
    "        elif(rand2 < react1 + react2 + react3 and rand2 >= react1 + react2):\n",
    "            S_next = S_c + 1\n",
    "            I_next = I_c - 1\n",
    "            R_next = R_c\n",
    "        else:\n",
    "            S_next = S_c + 1\n",
    "            R_next = R_c - 1\n",
    "            I_next = I_c\n",
    "        S = np.append(S,S_next)\n",
    "        I = np.append(I,I_next)\n",
    "        R = np.append(R,R_next)\n",
    "    return t, S, I, R"
   ]
  },
  {
   "cell_type": "code",
   "execution_count": null,
   "id": "a71d10fc",
   "metadata": {},
   "outputs": [
    {
     "name": "stdout",
     "output_type": "stream",
     "text": [
      "10000.0\n"
     ]
    }
   ],
   "source": [
    "beta = 3\n",
    "N_vec = [10000,50000,100000,500000,1000000]\n",
    "n = 100000\n",
    "gamma = 1\n",
    "mu = 0\n",
    "list_N = []\n",
    "list_t = []\n",
    "eps = 0.01\n",
    "\n",
    "for N in N_vec:\n",
    "    i0 = 0.001\n",
    "    r0 = 1 - (1/(beta/gamma)) - eps\n",
    "    x = N*np.array([1 - i0 - (r0-i0), i0, r0 - i0])\n",
    "    print(x.sum())\n",
    "    R0 = beta/gamma\n",
    "    list_i = []\n",
    "    list_t_i = []\n",
    "    for i in range(10000):\n",
    "        t, S, I, R = gillespie_SIR(x,n,N,beta,gamma, mu)\n",
    "        infected = R[-1] - r0*N \n",
    "        list_i.append(infected)\n",
    "        list_t_i.append(t[-1])\n",
    "        plt.plot(t,I)\n",
    "    plt.show()\n",
    "    list_N.append(list_i)\n",
    "    list_t.append(list_t_i)"
   ]
  }
 ],
 "metadata": {
  "kernelspec": {
   "display_name": "Python 3 (ipykernel)",
   "language": "python",
   "name": "python3"
  },
  "language_info": {
   "codemirror_mode": {
    "name": "ipython",
    "version": 3
   },
   "file_extension": ".py",
   "mimetype": "text/x-python",
   "name": "python",
   "nbconvert_exporter": "python",
   "pygments_lexer": "ipython3",
   "version": "3.10.9"
  }
 },
 "nbformat": 4,
 "nbformat_minor": 5
}
