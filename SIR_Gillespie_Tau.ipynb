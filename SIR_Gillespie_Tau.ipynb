{
 "cells": [
  {
   "cell_type": "code",
   "execution_count": 2,
   "id": "a106ba50",
   "metadata": {},
   "outputs": [],
   "source": [
    "import numpy as np\n",
    "import matplotlib.pyplot as plt\n",
    "import seaborn as sns \n",
    "import pandas as pd\n",
    "import multiprocessing\n",
    "sns.set_style('ticks')\n",
    "np.random.seed(123)"
   ]
  },
  {
   "cell_type": "code",
   "execution_count": 3,
   "id": "c8866955",
   "metadata": {},
   "outputs": [],
   "source": [
    "def gillespie_step(x,dt,beta,gamma):\n",
    "    # matrix of reactions\n",
    "    rates=np.zeros((2))\n",
    "    mod_matrix=np.zeros((2,3))\n",
    "    mod_matrix[0,:]=([-1, +1, 0])\n",
    "    mod_matrix[1,:]=([0, -1, +1])\n",
    "    # first we calculate the rates of processes\n",
    "    N = x[0] + x[1] + x[2]\n",
    "    rates[0] = beta*x[0]*x[1]/N # infection\n",
    "    rates[1] = gamma*x[1] # recovery\n",
    "    for i in range(2):\n",
    "        mod_i = np.random.poisson(rates[i]*dt)\n",
    "        real_mod_i = min([mod_i,x[np.where(mod_matrix[i,:]<0)]])\n",
    "        x = x + mod_matrix[i,:]*real_mod_i\n",
    "    return x"
   ]
  },
  {
   "cell_type": "code",
   "execution_count": 4,
   "id": "f00618ff",
   "metadata": {},
   "outputs": [],
   "source": [
    "def gillespie_total(x,dt,Tmax,beta,gamma):\n",
    "    t_curr = 0\n",
    "    t = []\n",
    "    res = []\n",
    "    t.append(t_curr)\n",
    "    res.append(x)\n",
    "    while t_curr < Tmax and x[1] > 0:\n",
    "        x = gillespie_step(x,dt,beta,gamma)\n",
    "        t_curr = t_curr + dt\n",
    "        t.append(t_curr)\n",
    "        res.append(x)\n",
    "    return t, res"
   ]
  },
  {
   "cell_type": "code",
   "execution_count": 5,
   "id": "8ef23de1",
   "metadata": {},
   "outputs": [
    {
     "name": "stdout",
     "output_type": "stream",
     "text": [
      "103 ms ± 17.7 ms per loop (mean ± std. dev. of 7 runs, 10 loops each)\n"
     ]
    }
   ],
   "source": [
    "N = 100000\n",
    "beta = 3 # 3 8\n",
    "gamma = 1\n",
    "Tmax = 200\n",
    "eps = 0.01 # 0.01, 0.1, 0.001, 0.0, -0.1, 0.05\n",
    "dt = 0.01\n",
    "I0 = 1/N\n",
    "R0 = 1 - (1/(beta/gamma)) - eps - I0\n",
    "x = np.array((1 - I0 - R0,I0,R0))*N\n",
    "reps = 10\n",
    "%timeit [gillespie_total(x,dt,Tmax,beta,gamma) for _ in range(reps)]       "
   ]
  },
  {
   "cell_type": "code",
   "execution_count": null,
   "id": "4624dac1",
   "metadata": {},
   "outputs": [],
   "source": [
    "N = 100000\n",
    "beta = 3 # 3 8\n",
    "gamma = 1\n",
    "Tmax = 200\n",
    "eps = 0.01 # 0.01, 0.1, 0.001, 0.0, -0.1, 0.05\n",
    "dt = 0.01\n",
    "I0 = 1/N\n",
    "R0 = 1 - (1/(beta/gamma)) - eps - I0\n",
    "x = np.array((1 - I0 - R0,I0,R0))*N\n",
    "reps = 1\n",
    "pool = multiprocessing.Pool(6)\n",
    "processes = [pool.apply_async(gillespie_total, args=(x,dt,Tmax,beta,gamma)) for _ in range(reps)]\n",
    "result = [p.get() for p in processes]"
   ]
  },
  {
   "cell_type": "code",
   "execution_count": null,
   "id": "0441cc97",
   "metadata": {},
   "outputs": [],
   "source": [
    "result"
   ]
  },
  {
   "cell_type": "code",
   "execution_count": null,
   "id": "b1937f5e",
   "metadata": {},
   "outputs": [],
   "source": []
  },
  {
   "cell_type": "code",
   "execution_count": null,
   "id": "dab5ade3",
   "metadata": {},
   "outputs": [],
   "source": []
  },
  {
   "cell_type": "code",
   "execution_count": null,
   "id": "e26206f1",
   "metadata": {},
   "outputs": [],
   "source": []
  },
  {
   "cell_type": "code",
   "execution_count": null,
   "id": "464ceb8e",
   "metadata": {
    "scrolled": false
   },
   "outputs": [],
   "source": [
    "N_vec = [1000,5000,10000,50000,100000,500000]\n",
    "beta = 3 # 3 8\n",
    "gamma = 1\n",
    "Tmax = 200\n",
    "eps = 0.01 # 0.01, 0.1, 0.001, 0.0, -0.1, 0.05\n",
    "mu = 0\n",
    "dt = 0.01\n",
    "I0 = 0.001 # 0.001 (0.1%), 0.01 (1%)\n",
    "R0 = 1 - (1/(beta/gamma)) - eps - I0\n",
    "reps = 10000\n",
    "size_list = []\n",
    "time_list = []\n",
    "for N in N_vec:\n",
    "    print(N)\n",
    "    size_list_loop = []\n",
    "    time_list_loop = []\n",
    "    for j in range(reps):\n",
    "        x = np.array((1 - I0 - R0,I0,R0))*N\n",
    "        t, res = gillespie_total(x,dt,Tmax,beta,gamma,mu)\n",
    "        res = np.array([np.array(xi) for xi in res])\n",
    "        R = res[:,2]\n",
    "        infected = R[-1] - R0*N \n",
    "        size_list_loop.append(infected)\n",
    "        time_list_loop.append(t[-1])\n",
    "        #plt.plot(t,res[:,1])\n",
    "    #plt.show()\n",
    "    size_list.append(size_list_loop)\n",
    "    time_list.append(time_list_loop)\n",
    "    name_1 = 'GTP_fsize_'+str(I0*100)+'_'+str(eps)+'_'+str(N)+'.csv'\n",
    "    name_2 = 'GTP_ftime_'+str(I0*100)+'_'+str(eps)+'_'+str(N)+'.csv'\n",
    "    np.savetxt(name_1, size_list)\n",
    "    np.savetxt(name_2, time_list)"
   ]
  },
  {
   "cell_type": "code",
   "execution_count": null,
   "id": "9eaf1a6b",
   "metadata": {
    "scrolled": false
   },
   "outputs": [],
   "source": [
    "for i in range(len(N_vec)):\n",
    "    plt.title(r'$N =$ '+str(N_vec[i]))\n",
    "    bins_vec = np.arange(0,0.5,0.01)\n",
    "    plt.hist(np.array(size_list[i])/N_vec[i], bins = bins_vec, edgecolor = 'black', color = 'red')\n",
    "    plt.ylabel('Frequency')\n",
    "    plt.xlabel('Outbreak Size (Propotion)')\n",
    "    plt.axvline(eps, color = 'k')\n",
    "    plt.show()"
   ]
  },
  {
   "cell_type": "code",
   "execution_count": null,
   "id": "8ef73498",
   "metadata": {
    "scrolled": false
   },
   "outputs": [],
   "source": [
    "for i in range(len(N_vec)):\n",
    "    plt.title(r'$N =$ '+str(N_vec[i]))\n",
    "    plt.hist(np.array(time_list[i]), edgecolor = 'black', color = 'red')\n",
    "    plt.ylabel('Frequency')\n",
    "    plt.xlabel('Outbreak Duration')\n",
    "    plt.show()"
   ]
  }
 ],
 "metadata": {
  "kernelspec": {
   "display_name": "Python 3 (ipykernel)",
   "language": "python",
   "name": "python3"
  },
  "language_info": {
   "codemirror_mode": {
    "name": "ipython",
    "version": 3
   },
   "file_extension": ".py",
   "mimetype": "text/x-python",
   "name": "python",
   "nbconvert_exporter": "python",
   "pygments_lexer": "ipython3",
   "version": "3.10.9"
  }
 },
 "nbformat": 4,
 "nbformat_minor": 5
}
