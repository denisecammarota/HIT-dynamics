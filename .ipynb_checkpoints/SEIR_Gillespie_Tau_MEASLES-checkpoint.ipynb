{
 "cells": [
  {
   "cell_type": "code",
   "execution_count": 1,
   "id": "a106ba50",
   "metadata": {},
   "outputs": [],
   "source": [
    "import numpy as np\n",
    "import matplotlib.pyplot as plt\n",
    "import seaborn as sns \n",
    "import pandas as pd\n",
    "sns.set_style('ticks')\n",
    "np.random.seed(123)"
   ]
  },
  {
   "cell_type": "code",
   "execution_count": 2,
   "id": "c8866955",
   "metadata": {},
   "outputs": [],
   "source": [
    "def gillespie_step(x,dt,beta,gamma, mu):\n",
    "    # matrix of reactions\n",
    "    rates=np.zeros((6))\n",
    "    mod_matrix=np.zeros((6,3))\n",
    "    mod_matrix[0,:]=([-1, +1, 0])\n",
    "    mod_matrix[1,:]=([0, -1, +1])\n",
    "    mod_matrix[2,:]=([+1, 0, 0])\n",
    "    mod_matrix[3,:]=([-1, 0, 0])\n",
    "    mod_matrix[4,:]=([0, -1, 0])\n",
    "    mod_matrix[5,:]=([0, 0, -1])\n",
    "    # first we calculate the rates of processes\n",
    "    N = x[0] + x[1] + x[2]\n",
    "    rates[0] = beta*x[0]*x[1]/N # infection\n",
    "    rates[1] = gamma*x[1] # recovery\n",
    "    rates[2] = mu*N # birth of susceptible \n",
    "    rates[3] = mu*x[0] # death of sucsceptible\n",
    "    rates[4] = mu*x[1] # death of infected\n",
    "    rates[5] = mu*x[2] # death of recovered\n",
    "    for i in range(6):\n",
    "        mod_i = np.random.poisson(rates[i]*dt)\n",
    "        real_mod_i = min([mod_i,x[np.where(mod_matrix[i,:]<0)]])\n",
    "        x = x + mod_matrix[i,:]*real_mod_i\n",
    "    return x"
   ]
  },
  {
   "cell_type": "code",
   "execution_count": 3,
   "id": "f00618ff",
   "metadata": {},
   "outputs": [],
   "source": [
    "def gillespie_total(x,dt,Tmax,beta,gamma,mu):\n",
    "    t_curr = 0\n",
    "    t = []\n",
    "    res = []\n",
    "    t.append(t_curr)\n",
    "    res.append(x)\n",
    "    while t_curr < Tmax and x[1] > 0:\n",
    "        x = gillespie_step(x,dt,beta,gamma, mu)\n",
    "        t_curr = t_curr + dt\n",
    "        t.append(t_curr)\n",
    "        res.append(x)\n",
    "    return t, res"
   ]
  },
  {
   "cell_type": "code",
   "execution_count": null,
   "id": "464ceb8e",
   "metadata": {
    "scrolled": false
   },
   "outputs": [
    {
     "name": "stdout",
     "output_type": "stream",
     "text": [
      "1000\n"
     ]
    },
    {
     "name": "stderr",
     "output_type": "stream",
     "text": [
      "C:\\Users\\denise.cammarota\\AppData\\Local\\Temp\\ipykernel_23488\\631406084.py:21: DeprecationWarning: The truth value of an empty array is ambiguous. Returning False, but in future this will result in an error. Use `array.size > 0` to check that an array is not empty.\n",
      "  real_mod_i = min([mod_i,x[np.where(mod_matrix[i,:]<0)]])\n"
     ]
    }
   ],
   "source": [
    "N_vec = [1000,10000,100000]\n",
    "beta = 3 # 3 8\n",
    "gamma = 0.2\n",
    "Tmax = 200\n",
    "eps = 0.1 # 0.01, 0.1, 0.001, 0.0, -0.1, 0.05\n",
    "mu = 0\n",
    "dt = 0.01\n",
    "reps = 10000\n",
    "size_list = []\n",
    "time_list = []\n",
    "for N in N_vec:\n",
    "    print(N)\n",
    "    size_list_loop = []\n",
    "    time_list_loop = []\n",
    "    for j in range(reps):\n",
    "        I0 = 1/N # 0.001 (0.1%), 0.01 (1%)\n",
    "        R0 = 1 - (1/(beta/gamma)) - eps - I0\n",
    "        x = np.array((1 - I0 - R0,I0,R0))*N\n",
    "        t, res = gillespie_total(x,dt,Tmax,beta,gamma,mu)\n",
    "        res = np.array([np.array(xi) for xi in res])\n",
    "        R = res[:,2]\n",
    "        infected = R[-1] - R0*N \n",
    "        size_list_loop.append(infected)\n",
    "        time_list_loop.append(t[-1])\n",
    "        #plt.plot(t,res[:,1])\n",
    "    #plt.show()\n",
    "    size_list.append(size_list_loop)\n",
    "    time_list.append(time_list_loop)\n",
    "    name_1 = 'GTP_fsize_inf_'+str(I0)+'_'+str(eps)+'_'+str(N)+'_2.csv'\n",
    "    name_2 = 'GTP_ftime_inf_'+str(I0)+'_'+str(eps)+'_'+str(N)+'_2.csv'\n",
    "    np.savetxt(name_1, size_list)\n",
    "    np.savetxt(name_2, time_list)"
   ]
  },
  {
   "cell_type": "code",
   "execution_count": null,
   "id": "9eaf1a6b",
   "metadata": {
    "scrolled": false
   },
   "outputs": [],
   "source": [
    "for i in range(len(N_vec)):\n",
    "    plt.title(r'$N =$ '+str(N_vec[i]))\n",
    "    bins_vec = np.arange(0,0.5,0.01)\n",
    "    plt.hist(np.array(size_list[i])/N_vec[i], bins = bins_vec, edgecolor = 'black', color = 'red')\n",
    "    plt.ylabel('Frequency')\n",
    "    plt.xlabel('Outbreak Size (Propotion)')\n",
    "    plt.axvline(eps, color = 'k')\n",
    "    plt.show()"
   ]
  },
  {
   "cell_type": "code",
   "execution_count": null,
   "id": "8ef73498",
   "metadata": {
    "scrolled": false
   },
   "outputs": [],
   "source": [
    "for i in range(len(N_vec)):\n",
    "    plt.title(r'$N =$ '+str(N_vec[i]))\n",
    "    plt.hist(np.array(time_list[i]), edgecolor = 'black', color = 'red')\n",
    "    plt.ylabel('Frequency')\n",
    "    plt.xlabel('Outbreak Duration')\n",
    "    plt.show()"
   ]
  }
 ],
 "metadata": {
  "kernelspec": {
   "display_name": "Python 3 (ipykernel)",
   "language": "python",
   "name": "python3"
  },
  "language_info": {
   "codemirror_mode": {
    "name": "ipython",
    "version": 3
   },
   "file_extension": ".py",
   "mimetype": "text/x-python",
   "name": "python",
   "nbconvert_exporter": "python",
   "pygments_lexer": "ipython3",
   "version": "3.10.9"
  }
 },
 "nbformat": 4,
 "nbformat_minor": 5
}
